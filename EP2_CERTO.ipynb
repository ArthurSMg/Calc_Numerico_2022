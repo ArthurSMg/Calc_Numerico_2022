{
 "cells": [
  {
   "cell_type": "code",
   "execution_count": 4,
   "id": "f9265cd9",
   "metadata": {},
   "outputs": [
    {
     "name": "stdout",
     "output_type": "stream",
     "text": [
      "10\n",
      "  1.4276\n",
      "  4.2711\n",
      "  7.0689\n"
     ]
    }
   ],
   "source": [
    "#Versao Final\n",
    "\n",
    "\n",
    "import numpy as np #importando a biblioteca numpy \n",
    "\n",
    "\n",
    "ZM = float(input()) #pedindo para o usuário dar um valor para ZM \n",
    "z = np.linspace(0,ZM,1000) #criando uma lista de 0 até o valor de ZM para representar o eixo \"x\" da função\n",
    "\n",
    "Zout = [] #criando uma lista vazia para ser usada para guardar os outputs da rotina\n",
    "\n",
    "def newtons(fun,fdev,z,n): #definindo uma funcao para o método de newrton\n",
    "    \n",
    "    def f(z): #criando uma funcao para representar a funcao \n",
    "        f = eval(fun) #evaluando a funcao que vamos utilizar\n",
    "        return f\n",
    "    \n",
    "    def df(z): #criando uma funcao para representar a derivada da funcao f\n",
    "        df = eval(fdev) #evaluando a derivada da funcao \n",
    "        return df\n",
    "    \n",
    "    for i in range(1,n):  #criando a rotina que ira rodar o método de newton, em que n é o número de interações feitas\n",
    "        i = z - (f(z)/df(z)) #método de Newton\n",
    "        z = i #indo para o próximo n\n",
    "        \n",
    "    return z #retorna o valor final da raiz (depois de n interaçõs)\n",
    "\n",
    "chutes = [1.4,4,7] #listas com os chutes que vamos dar, com base no gráfico do que parecia perto da raíz\n",
    "\n",
    "for i in chutes: #loop para aplicarmos a função newtons em todos os valores z de chutes\n",
    "    Zout.append( newtons(\"np.sqrt((ZM/z)**2 - 1) - np.tan(z)\",\"-ZM**2/z**3 *(1/np.sqrt( (ZM/z)**2 - 1)) - (1/np.cos(z))**2\",i,10))\n",
    "    #Colocando os valores resultantes dentro da list Zout, e aplicando a função e a derivada que queríamos na mesma\n",
    "\n",
    "\n",
    "for num in Zout: #printando o resultando com a aproximação que queríamos\n",
    "     print(\"{:8.4f}\".format(num))\n",
    "\n",
    "\n",
    "\n",
    "\n",
    "\n",
    "\n",
    "\n"
   ]
  },
  {
   "cell_type": "code",
   "execution_count": 5,
   "id": "2779e743",
   "metadata": {},
   "outputs": [
    {
     "data": {
      "image/png": "[encoded data removed]",
      "text/plain": [
       "<Figure size 432x288 with 1 Axes>"
      ]
     },
     "metadata": {
      "needs_background": "light"
     },
     "output_type": "display_data"
    }
   ],
   "source": [
    "#FAZENDO O GRAFICO COM MAIS COISAS\n",
    "\n",
    "import matplotlib.pyplot as plt\n",
    "import numpy as np\n",
    "import math\n",
    "\n",
    "z = np.linspace(0.1, 10, 1000)\n",
    "y = np.tan(z)\n",
    "\n",
    "\n",
    "y[:-1][np.diff(y) < 0] = np.nan\n",
    "\n",
    "\n",
    "plt.grid()\n",
    "\n",
    "\n",
    "plt.xlabel(\"z\")\n",
    "\n",
    "\n",
    "plt.ylim(0,10)\n",
    "plt.xlim(0, 10)\n",
    "\n",
    "ZM = 10\n",
    "y2 = np.sqrt((ZM/z)**2 -1)\n",
    "\n",
    "y3 = np.sqrt((ZM/z)**2 -1) - np.tan(z) \n",
    "\n",
    "\n",
    "\n",
    "\n",
    "plt.plot(z,y2,color='b',label='sqrt(zm/z)^2 - 1', linestyle = '--')\n",
    "plt.plot(z, y,color='r',label='tan(z)')\n",
    "#plt.plot(z,y3,color='r',label = 'f(z)')\n",
    "plt.plot(z,np.zeros(1000), color = 'black')\n",
    "plt.legend()\n",
    "\n",
    "plt.show()"
   ]
  },
  {
   "cell_type": "code",
   "execution_count": null,
   "id": "17f2f566",
   "metadata": {},
   "outputs": [],
   "source": []
  },
  {
   "cell_type": "code",
   "execution_count": null,
   "id": "37697cf4",
   "metadata": {},
   "outputs": [],
   "source": []
  }
 ],
 "metadata": {
  "kernelspec": {
   "display_name": "Python 3 (ipykernel)",
   "language": "python",
   "name": "python3"
  },
  "language_info": {
   "codemirror_mode": {
    "name": "ipython",
    "version": 3
   },
   "file_extension": ".py",
   "mimetype": "text/x-python",
   "name": "python",
   "nbconvert_exporter": "python",
   "pygments_lexer": "ipython3",
   "version": "3.9.7"
  }
 },
 "nbformat": 4,
 "nbformat_minor": 5
}
