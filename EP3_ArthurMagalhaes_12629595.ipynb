{
 "cells": [
  {
   "cell_type": "code",
   "execution_count": 3,
   "id": "b1263d62",
   "metadata": {},
   "outputs": [
    {
     "data": {
      "text/plain": [
       "array([[1.75, 2.25, 0.  ],\n",
       "       [2.25, 1.75, 2.25],\n",
       "       [0.  , 2.25, 1.75]])"
      ]
     },
     "execution_count": 3,
     "metadata": {},
     "output_type": "execute_result"
    }
   ],
   "source": [
    "import numpy as np\n",
    "\n",
    "#N = int(input())\n",
    "#omega = float(input())\n",
    "#omega0 = float(input())\n",
    "#a0 = float(input())\n",
    "\n",
    "N = 3\n",
    "omega = 2.0\n",
    "omega0 = 1.5\n",
    "a0 = 0.5\n",
    "\n",
    "\n",
    "matA = np.zeros((N,N))\n",
    "\n",
    "\n",
    "nc = 0\n",
    "n = N-1\n",
    "\n",
    "while nc < N:\n",
    "    matA[nc][nc] = (omega**2 - omega0**2)\n",
    "    \n",
    "    if nc-1 <= 0:\n",
    "        matA[nc][nc+1] = omega0**2\n",
    "        \n",
    "    if nc-1 >= 0 and nc+1 < N:\n",
    "        matA[nc][nc+1] = omega0**2\n",
    "        matA[nc][nc-1] = omega0**2\n",
    "    \n",
    "    if nc+1 >= N:\n",
    "        matA[nc][nc-1] = omega0**2 \n",
    "    nc+=1\n",
    "    \n",
    "\n",
    "vecb = [0]*N\n",
    "vecb[0] = a0\n",
    "vecb\n",
    "\n",
    "#Agora que vai começar a putaria \n",
    "\n",
    "matA[]"
   ]
  },
  {
   "cell_type": "code",
   "execution_count": 19,
   "id": "255fcebb",
   "metadata": {},
   "outputs": [
    {
     "data": {
      "text/plain": [
       "array([[ 1.75      ,  2.25      ,  0.        ],\n",
       "       [ 0.        , -1.14285714,  2.25      ],\n",
       "       [ 0.        ,  2.25      ,  1.75      ]])"
      ]
     },
     "execution_count": 19,
     "metadata": {},
     "output_type": "execute_result"
    }
   ],
   "source": [
    "matE"
   ]
  },
  {
   "cell_type": "code",
   "execution_count": 40,
   "id": "fa8b71b0",
   "metadata": {},
   "outputs": [
    {
     "name": "stdout",
     "output_type": "stream",
     "text": [
      "[[ 1.75        2.25        0.        ]\n",
      " [ 2.25       -1.14285714  2.25      ]\n",
      " [ 0.          2.25        6.1796875 ]]\n",
      "x =\n",
      " [-0.08091024 -0.15929204  0.20480405]\n",
      "\n",
      "Check result: [a]{x} - b =\n",
      " [ 0.00000000e+00  0.00000000e+00 -1.11022302e-16]\n"
     ]
    }
   ],
   "source": [
    "import numpy as np\n",
    "def gaussElim(a,b):\n",
    "    n = len(b)\n",
    "    # Elimination phase\n",
    "    for k in range(0,n-1):\n",
    "        for i in range(k+1,n):\n",
    "            if a[i,k] != 0.0:\n",
    "                #if not null define λ\n",
    "                lam = a [i,k]/a[k,k]\n",
    "                #we calculate the new row of the matrix\n",
    "                a[i,k+1:n] = a[i,k+1:n] - lam*a[k,k+1:n]\n",
    "                #we update vector b\n",
    "                b[i] = b[i] - lam*b[k]\n",
    "                # backward substitution\n",
    "    for k in range(n-1,-1,-1):\n",
    "        b[k] = (b[k] - np.dot(a[k,k+1:n],b[k+1:n]))/a[k,k]\n",
    "    \n",
    "    return b\n",
    "\n",
    "#initial coefficients\n",
    "a=np.array([[1.75,2.25,0],[2.25,1.75,2.25],[0,2.25,1.75]])\n",
    "b=np.array([-0.5,0,0])\n",
    "aOrig = a.copy() # save original matrix A\n",
    "bOrig = b.copy() #save original vector b\n",
    "x = gaussElim(a,b)\n",
    "#print A transformed for check\n",
    "print(a)\n",
    "print(\"x =\\n\",x)\n",
    "#det = np.prod(np.diagonal(a)) #determinant\n",
    "#print(\"\\ndet =\",det)\n",
    "#check result and numerical precision\n",
    "print(\"\\nCheck result: [a]{x} - b =\\n\",np.dot(aOrig,x) - bOrig)"
   ]
  },
  {
   "cell_type": "code",
   "execution_count": 46,
   "id": "54bec236",
   "metadata": {},
   "outputs": [
    {
     "name": "stdout",
     "output_type": "stream",
     "text": [
      "Solution by NumPy:\n",
      "[-0.15422078 -0.10227273  0.13149351]\n",
      "[[ 1.75000000e+00  2.25000000e+00  0.00000000e+00]\n",
      " [ 0.00000000e+00  2.63888889e+00 -1.75000000e+00]\n",
      " [ 0.00000000e+00  4.44089210e-16 -3.80246914e+00]]\n",
      "[-0.5, -0.5, -0.5]\n",
      "The solution of the system is:\n",
      "[-0.15422078 -0.10227273  0.13149351]\n"
     ]
    }
   ],
   "source": [
    "from numpy import array, zeros, fabs, linalg\n",
    "\n",
    "#a = array([[0, 6, -1, 2, 2],\n",
    "           #[0, 3, 4, 1, 7],\n",
    "           #[5, 1, 0, 3, -1],\n",
    "           #[3, 1, 3, 0, 2],\n",
    "           #[4, 4, 1, -2, 1]], float)\n",
    "#the b matrix constant terms of the equations \n",
    "#b = array([5, 7, 2, 3, 4], float)\n",
    "\n",
    "#a=np.array([[1.75,2.25,0],[2.25,1.75,2.25],[0,2.25,1.75]])\n",
    "#b=np.array([0.5,0,0])\n",
    "\n",
    "\n",
    "om = 2.0\n",
    "om0 = 1.5\n",
    "a0 = 0.5\n",
    "\n",
    "\n",
    "a = np.array([[(om**2-om0**2),om0**2,0.0],[om0**2,(om**2-2*om0**2),om0**2],[0.0,om0**2,(om**2-om0**2)]])\n",
    "b = [-a0,0.0,0.0]\n",
    "\n",
    "print(\"Solution by NumPy:\")\n",
    "\n",
    "\n",
    "print(linalg.solve(a, b))\n",
    "\n",
    "n = len(b)\n",
    "x = zeros(n, float)\n",
    "\n",
    "#first loop specifys the fixed row\n",
    "for k in range(n-1):\n",
    "    if fabs(a[k,k]) < 1.0e-12:\n",
    "        \n",
    "        for i in range(k+1, n):\n",
    "            if fabs(a[i,k]) > fabs(a[k,k]):\n",
    "                a[[k,i]] = a[[i,k]]\n",
    "                b[[k,i]] = b[[i,k]]\n",
    "                break\n",
    "\n",
    " #applies the elimination below the fixed row\n",
    "\n",
    "    for i in range(k+1,n):\n",
    "        if a[i,k] == 0:continue\n",
    "\n",
    "        factor = a[k,k]/a[i,k]\n",
    "        for j in range(k,n):\n",
    "            a[i,j] = a[k,j] - a[i,j]*factor\n",
    "            #we also calculate the b vector of each row\n",
    "        b[i] = b[k] - b[i]*factor\n",
    "print(a)\n",
    "print(b)\n",
    "\n",
    "\n",
    "x[n-1] = b[n-1] / a[n-1, n-1]\n",
    "for i in range(n-2, -1, -1):\n",
    "    sum_ax = 0\n",
    "  \n",
    "    for j in range(i+1, n):\n",
    "        sum_ax += a[i,j] * x[j]\n",
    "        \n",
    "    x[i] = (b[i] - sum_ax) / a[i,i]\n",
    "\n",
    "print(\"The solution of the system is:\")\n",
    "print(x)"
   ]
  },
  {
   "cell_type": "code",
   "execution_count": 44,
   "id": "71989004",
   "metadata": {},
   "outputs": [],
   "source": [
    "\n",
    "om = 2.0\n",
    "om0 = 1.5\n",
    "a0 = 0.5\n",
    "\n",
    "a = np.array([[(om**2-om0**2),om0**2,0.0],[om0**2,(om**2-2*om0**2),om0**2],[0.0,om0**2,(om**2-om0**2)]])\n",
    "b = [-a0,0.0,0.0]\n"
   ]
  },
  {
   "cell_type": "code",
   "execution_count": 45,
   "id": "a5ee67a2",
   "metadata": {},
   "outputs": [
    {
     "data": {
      "text/plain": [
       "array([[ 1.75,  2.25,  0.  ],\n",
       "       [ 2.25, -0.5 ,  2.25],\n",
       "       [ 0.  ,  2.25,  1.75]])"
      ]
     },
     "execution_count": 45,
     "metadata": {},
     "output_type": "execute_result"
    }
   ],
   "source": [
    "a"
   ]
  },
  {
   "cell_type": "code",
   "execution_count": null,
   "id": "8203e575",
   "metadata": {},
   "outputs": [],
   "source": [
    "\n",
    "\n",
    "##DEEEEEU CERTOOOOOOOO\n",
    "\n",
    "\n",
    "\n",
    "\n",
    "import numpy as np\n",
    "\n",
    "N = int(input())\n",
    "omega = float(input())\n",
    "omega0 = float(input())\n",
    "a0 = float(input())\n",
    "\n",
    "#Tentando criar uma matriz A de tamanho arbitrario NxN com os valores da nossa conta\n",
    "\n",
    "\n",
    "matA = np.zeros((N,N)) #Definindo uma matriz de zeros para começar\n",
    "\n",
    "\n",
    "nc = 0 #variaveis auxiliares\n",
    "n = N-1\n",
    "\n",
    "while nc < N:\n",
    "    matA[0][0] = (omega**2 - omega0**2)  #garantindo o primeiro e o ultimo termo que serao sempre os mesmos\n",
    "    matA[n][n] = (omega**2 - omega0**2)\n",
    "    \n",
    "    if nc-1 <= 0:\n",
    "        matA[nc][nc+1] = omega0**2 #fazendo o primeiro caso da primeira linha para adicionar o termo omega0**2\n",
    "        \n",
    "        \n",
    "    if nc-1 >= 0 and nc+1 < N: #Fazendo todos os casos seguintes menos o ultimo (especial)\n",
    "        matA[nc][nc+1] = omega0**2\n",
    "        matA[nc][nc-1] = omega0**2\n",
    "        matA[nc][nc] = (omega**2 - 2*omega0**2)\n",
    "    \n",
    "    if nc+1 >= N:\n",
    "        matA[nc][nc-1] = omega0**2 #Adicionando o termo omega0**2 no ultimo caso\n",
    "    nc+=1\n",
    "    \n",
    "    \n",
    "vecb = [0]*N #criando um vetor nulo b de tamanho N \n",
    "vecb[0] = -a0 #adicionando o a0 ao vetor\n",
    "\n",
    "\n",
    "def EliminacaoGaussiana(matA,vecb):\n",
    "    \n",
    "    for k in range(0,N-1): #definindo uma variavel auxiliar que começa do 0\n",
    "        for i in range(k+1,N): #definindo uma variavel auxiliar que começa do 1\n",
    "            if matA[i,k] != 0.0: #Econtrando todos os casos em que a \"escada\" do escalonamento não está feita, ou seja em que os temos abaixo da diagonal principal nao sao zeros\n",
    "                \n",
    "                m = matA[i,k]/matA[k,k]  #criando os m's que irao servirar para escalonar cada linha\n",
    "                \n",
    "                matA[i,k+1:N] = matA[i,k+1:N] - m*matA[k,k+1:N] #subtraindo o valor de cada termo da linha\n",
    "                \n",
    "                vecb[i] = vecb[i] - m*vecb[k] #subtraindo também do resultado\n",
    "                \n",
    "    for k in range(N-1,-1,-1):\n",
    "        vecb[k] = (vecb[k] - np.dot(matA[k,k+1:N],vecb[k+1:N]))/matA[k,k] #encontrando o resultado final\n",
    "    \n",
    "    return vecb\n",
    "\n",
    "\n",
    "x = gaussElim(matA,vecb)\n",
    "\n",
    "dvec =np.copy(x)\n",
    "\n",
    "for num in dvec:\n",
    "    print(\"{:8.4f}\".format(num))\n",
    "\n",
    "\n"
   ]
  },
  {
   "cell_type": "code",
   "execution_count": 48,
   "id": "1593be89",
   "metadata": {},
   "outputs": [
    {
     "data": {
      "text/plain": [
       "3"
      ]
     },
     "execution_count": 48,
     "metadata": {},
     "output_type": "execute_result"
    }
   ],
   "source": [
    "g = [0]*3\n",
    "\n",
    "len(g)"
   ]
  },
  {
   "cell_type": "code",
   "execution_count": 50,
   "id": "28bbf36b",
   "metadata": {},
   "outputs": [
    {
     "data": {
      "text/plain": [
       "array([[ 1.75      ,  2.25      ,  0.        ],\n",
       "       [ 2.25      , -3.39285714,  2.25      ],\n",
       "       [ 0.        ,  2.25      ,  3.24210526]])"
      ]
     },
     "execution_count": 50,
     "metadata": {},
     "output_type": "execute_result"
    }
   ],
   "source": [
    "matA"
   ]
  },
  {
   "cell_type": "code",
   "execution_count": 52,
   "id": "bad3cce1",
   "metadata": {},
   "outputs": [
    {
     "data": {
      "text/plain": [
       "0.0"
      ]
     },
     "execution_count": 52,
     "metadata": {},
     "output_type": "execute_result"
    }
   ],
   "source": [
    "matA[2,0]"
   ]
  },
  {
   "cell_type": "code",
   "execution_count": null,
   "id": "2a381857",
   "metadata": {},
   "outputs": [],
   "source": []
  }
 ],
 "metadata": {
  "kernelspec": {
   "display_name": "Python 3 (ipykernel)",
   "language": "python",
   "name": "python3"
  },
  "language_info": {
   "codemirror_mode": {
    "name": "ipython",
    "version": 3
   },
   "file_extension": ".py",
   "mimetype": "text/x-python",
   "name": "python",
   "nbconvert_exporter": "python",
   "pygments_lexer": "ipython3",
   "version": "3.9.7"
  }
 },
 "nbformat": 4,
 "nbformat_minor": 5
}
