{
 "cells": [
  {
   "cell_type": "code",
   "execution_count": 206,
   "id": "91565532",
   "metadata": {},
   "outputs": [
    {
     "name": "stdout",
     "output_type": "stream",
     "text": [
      "2\n"
     ]
    }
   ],
   "source": [
    "var = float(input())"
   ]
  },
  {
   "cell_type": "code",
   "execution_count": 207,
   "id": "1ee19817",
   "metadata": {},
   "outputs": [
    {
     "name": "stdout",
     "output_type": "stream",
     "text": [
      "1 0\n"
     ]
    }
   ],
   "source": [
    "vari = var//1\n",
    "\n",
    "\n",
    "par_int = int(vari//2)\n",
    "res = int(vari%2)\n",
    "l = [int(vari)]\n",
    "bi = [int(res)]\n",
    "\n",
    "\n",
    "print(par_int,res)"
   ]
  },
  {
   "cell_type": "code",
   "execution_count": 208,
   "id": "e7af446b",
   "metadata": {},
   "outputs": [
    {
     "data": {
      "text/plain": [
       "[1, 0]"
      ]
     },
     "execution_count": 208,
     "metadata": {},
     "output_type": "execute_result"
    }
   ],
   "source": [
    "#Numeros inteiros \n",
    "\n",
    "while par_int > 0:    \n",
    "    res = par_int%2\n",
    "    par_int = par_int//2\n",
    "    \n",
    "    l.append(par_int)\n",
    "    bi.append(res)\n",
    "    #print(res)\n",
    "    \n",
    "   \n",
    "    \n",
    "newbi = bi.copy()\n",
    "newbi.reverse()\n",
    "newbi\n"
   ]
  },
  {
   "cell_type": "code",
   "execution_count": 187,
   "id": "91b004b5",
   "metadata": {},
   "outputs": [
    {
     "data": {
      "text/plain": [
       "[2, 0]"
      ]
     },
     "execution_count": 187,
     "metadata": {},
     "output_type": "execute_result"
    }
   ],
   "source": [
    "l"
   ]
  },
  {
   "cell_type": "code",
   "execution_count": 201,
   "id": "51b658c7",
   "metadata": {},
   "outputs": [
    {
     "data": {
      "text/plain": [
       "[0, 1]"
      ]
     },
     "execution_count": 201,
     "metadata": {},
     "output_type": "execute_result"
    }
   ],
   "source": [
    "bi"
   ]
  },
  {
   "cell_type": "code",
   "execution_count": 209,
   "id": "16dca888",
   "metadata": {},
   "outputs": [
    {
     "data": {
      "text/plain": [
       "[1, 0]"
      ]
     },
     "execution_count": 209,
     "metadata": {},
     "output_type": "execute_result"
    }
   ],
   "source": [
    "newbi = bi.copy()\n",
    "newbi.reverse()\n",
    "newbi"
   ]
  },
  {
   "cell_type": "code",
   "execution_count": 210,
   "id": "2f92d11d",
   "metadata": {},
   "outputs": [],
   "source": [
    "#Numeros decimais\n",
    "\n",
    "bid = []\n",
    "vard = var%1\n",
    "vard_i = vard//1\n",
    "#print(vard)\n",
    "\n",
    "while vard%1 > 0:\n",
    "\n",
    "    vard = vard%1\n",
    "    vard = vard * 2\n",
    "    bid.append(int(vard//1))\n",
    "\n",
    "    \n",
    "    if len(bid) == 15:\n",
    "        break\n",
    "    \n",
    "\n",
    "\n",
    "\n"
   ]
  },
  {
   "cell_type": "code",
   "execution_count": 211,
   "id": "34200cc0",
   "metadata": {},
   "outputs": [
    {
     "data": {
      "text/plain": [
       "[]"
      ]
     },
     "execution_count": 211,
     "metadata": {},
     "output_type": "execute_result"
    }
   ],
   "source": [
    "bid"
   ]
  },
  {
   "cell_type": "code",
   "execution_count": 212,
   "id": "b5608287",
   "metadata": {},
   "outputs": [
    {
     "name": "stdout",
     "output_type": "stream",
     "text": [
      "10.\n"
     ]
    }
   ],
   "source": [
    "print(*newbi , \".\",*bid,sep=\"\")"
   ]
  },
  {
   "cell_type": "code",
   "execution_count": 215,
   "id": "99d63d45",
   "metadata": {},
   "outputs": [
    {
     "name": "stdout",
     "output_type": "stream",
     "text": [
      "23\n",
      "10111.\n"
     ]
    }
   ],
   "source": [
    "#CÓDIGO FINAL\n",
    "\n",
    "\n",
    "var = float(input())\n",
    "\n",
    "\n",
    "vari = var//1\n",
    "\n",
    "\n",
    "par_int = int(vari//2)\n",
    "res = int(vari%2)\n",
    "l = [int(vari)]\n",
    "bi = [int(res)]\n",
    "\n",
    "#Numeros inteiros \n",
    "\n",
    "while par_int > 0:    \n",
    "    res = par_int%2\n",
    "    par_int = par_int//2\n",
    "    \n",
    "    l.append(par_int)\n",
    "    bi.append(res)\n",
    "\n",
    "   \n",
    "    \n",
    "newbi = bi.copy()\n",
    "newbi.reverse()\n",
    "newbi\n",
    "\n",
    "    \n",
    "#Numeros decimais\n",
    "\n",
    "bid = []\n",
    "vard = var%1\n",
    "vard_i = vard//1\n",
    "#print(vard)\n",
    "\n",
    "while vard%1 > 0:\n",
    "\n",
    "    vard = vard%1\n",
    "    vard = vard * 2\n",
    "    bid.append(int(vard//1))\n",
    "\n",
    "    \n",
    "    if len(bid) == 15:\n",
    "        break\n",
    "    \n",
    "\n",
    "print(*newbi , \".\",*bid,sep=\"\")\n"
   ]
  },
  {
   "cell_type": "code",
   "execution_count": null,
   "id": "e6c3a2d6",
   "metadata": {},
   "outputs": [],
   "source": []
  }
 ],
 "metadata": {
  "kernelspec": {
   "display_name": "Python 3 (ipykernel)",
   "language": "python",
   "name": "python3"
  },
  "language_info": {
   "codemirror_mode": {
    "name": "ipython",
    "version": 3
   },
   "file_extension": ".py",
   "mimetype": "text/x-python",
   "name": "python",
   "nbconvert_exporter": "python",
   "pygments_lexer": "ipython3",
   "version": "3.9.7"
  }
 },
 "nbformat": 4,
 "nbformat_minor": 5
}
